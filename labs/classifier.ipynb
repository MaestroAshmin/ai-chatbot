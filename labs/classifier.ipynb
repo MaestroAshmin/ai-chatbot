{
 "cells": [
  {
   "cell_type": "code",
   "execution_count": 2,
   "metadata": {
    "collapsed": true,
    "ExecuteTime": {
     "end_time": "2023-05-11T23:24:47.998740Z",
     "start_time": "2023-05-11T23:24:42.954576Z"
    }
   },
   "outputs": [
    {
     "name": "stderr",
     "output_type": "stream",
     "text": [
      "Found cached dataset csv (/Users/phung/.cache/huggingface/datasets/csv/default-78f0e4fe8e0f0d99/0.0.0)\n",
      "Loading cached processed dataset at /Users/phung/.cache/huggingface/datasets/csv/default-78f0e4fe8e0f0d99/0.0.0/cache-81de64e2750f8f61.arrow\n"
     ]
    }
   ],
   "source": [
    "from transformers import Trainer, TrainingArguments, DistilBertForMaskedLM, \\\n",
    "    DataCollatorForLanguageModeling, AutoTokenizer\n",
    "from datasets import Dataset\n",
    "\n",
    "tokenizer = AutoTokenizer.from_pretrained('distilbert-base-uncased')\n",
    "\n",
    "# Convert to Hugging Face Dataset\n",
    "faq_dataset = Dataset.from_csv('out-of-scope-dataset.csv')\n",
    "\n",
    "\n",
    "def tokenize_faq(data):\n",
    "    result = tokenizer(data[\"question\"], truncation=True)\n",
    "    if tokenizer.is_fast:\n",
    "        result[\"word_ids\"] = [result.word_ids(i) for i in range(len(result[\"input_ids\"]))]\n",
    "    return result\n",
    "\n",
    "\n",
    "# Tokenize the dataset\n",
    "tokenized_faq_dataset = faq_dataset.map(tokenize_faq, batched=True).remove_columns([\"question\"])"
   ]
  },
  {
   "cell_type": "code",
   "execution_count": 21,
   "outputs": [
    {
     "name": "stdout",
     "output_type": "stream",
     "text": [
      "DatasetDict({\n",
      "    train: Dataset({\n",
      "        features: ['label', 'input_ids', 'attention_mask', 'word_ids'],\n",
      "        num_rows: 129123\n",
      "    })\n",
      "    test: Dataset({\n",
      "        features: ['label', 'input_ids', 'attention_mask', 'word_ids'],\n",
      "        num_rows: 14347\n",
      "    })\n",
      "})\n",
      "{'label': 1, 'input_ids': [101, 2043, 2106, 1996, 8549, 24997, 12868, 5851, 1996, 2157, 2000, 2219, 2455, 1999, 1996, 5797, 3111, 1029, 102], 'attention_mask': [1, 1, 1, 1, 1, 1, 1, 1, 1, 1, 1, 1, 1, 1, 1, 1, 1, 1, 1], 'word_ids': [None, 0, 1, 2, 3, 3, 3, 4, 5, 6, 7, 8, 9, 10, 11, 12, 12, 13, None]}\n"
     ]
    }
   ],
   "source": [
    "split_dataset = tokenized_faq_dataset.train_test_split(test_size=0.1)\n",
    "print(split_dataset)\n",
    "print(split_dataset['train'][0])"
   ],
   "metadata": {
    "collapsed": false,
    "ExecuteTime": {
     "end_time": "2023-05-11T10:00:08.054445Z",
     "start_time": "2023-05-11T10:00:07.952732Z"
    }
   }
  },
  {
   "cell_type": "code",
   "execution_count": 22,
   "outputs": [],
   "source": [
    "id2label = {0: \"in-scope\", 1: \"out-of-scope\"}\n",
    "\n",
    "label2id = {\"in-scope\": 0, \"out-of-scope\": 1}"
   ],
   "metadata": {
    "collapsed": false,
    "ExecuteTime": {
     "end_time": "2023-05-11T10:00:15.040927Z",
     "start_time": "2023-05-11T10:00:15.029319Z"
    }
   }
  },
  {
   "cell_type": "code",
   "execution_count": 29,
   "outputs": [
    {
     "name": "stderr",
     "output_type": "stream",
     "text": [
      "Some weights of the model checkpoint at distilbert-base-uncased were not used when initializing DistilBertForSequenceClassification: ['vocab_projector.bias', 'vocab_layer_norm.bias', 'vocab_transform.bias', 'vocab_transform.weight', 'vocab_projector.weight', 'vocab_layer_norm.weight']\n",
      "- This IS expected if you are initializing DistilBertForSequenceClassification from the checkpoint of a model trained on another task or with another architecture (e.g. initializing a BertForSequenceClassification model from a BertForPreTraining model).\n",
      "- This IS NOT expected if you are initializing DistilBertForSequenceClassification from the checkpoint of a model that you expect to be exactly identical (initializing a BertForSequenceClassification model from a BertForSequenceClassification model).\n",
      "Some weights of DistilBertForSequenceClassification were not initialized from the model checkpoint at distilbert-base-uncased and are newly initialized: ['pre_classifier.weight', 'classifier.bias', 'pre_classifier.bias', 'classifier.weight']\n",
      "You should probably TRAIN this model on a down-stream task to be able to use it for predictions and inference.\n"
     ]
    }
   ],
   "source": [
    "from transformers import AutoModelForSequenceClassification, DataCollatorWithPadding\n",
    "\n",
    "chunk_size = 128\n",
    "\n",
    "\n",
    "# def group_texts(data):\n",
    "#     concatenated_examples = {k: sum(data[k], []) for k in data.keys()}\n",
    "#     total_length = len(concatenated_examples[list(data.keys())[0]])\n",
    "#     total_length = (total_length // chunk_size) * chunk_size\n",
    "#     result = {\n",
    "#         k: [t[i: i + chunk_size] for i in range(0, total_length, chunk_size)]\n",
    "#         for k, t in concatenated_examples.items()\n",
    "#     }\n",
    "#     result[\"labels\"] = result[\"input_ids\"].copy()\n",
    "#     return result\n",
    "#\n",
    "#\n",
    "# lm_datasets = tokenized_faq_dataset.map(group_texts, batched=True)\n",
    "# split_dataset = tokenized_faq_dataset.train_test_split(test_size=0.1)\n",
    "# print(split_dataset)\n",
    "\n",
    "distilbert_model = AutoModelForSequenceClassification.from_pretrained(\n",
    "    \"distilbert-base-uncased\",\n",
    "    num_labels=2,\n",
    "    id2label=id2label,\n",
    "    label2id=label2id\n",
    ")\n",
    "\n",
    "data_collator = DataCollatorWithPadding(tokenizer=tokenizer)\n",
    "\n",
    "# Training hyperparameters\n",
    "training_args = TrainingArguments(\n",
    "    output_dir=\"/Volumes/PortableSSD/Projects/models/faqs_distilbert_classifier\",\n",
    "    num_train_epochs=20,\n",
    "    per_device_train_batch_size=16,\n",
    "    per_device_eval_batch_size=16,\n",
    "    warmup_steps=500,\n",
    "    weight_decay=0.01,\n",
    "    logging_dir=\"/Volumes/PortableSSD/Projects/models/faq_distilbert_logs\",\n",
    "    logging_steps=10,\n",
    "    save_steps=500,\n",
    "    evaluation_strategy=\"epoch\",\n",
    "    learning_rate=2e-5,\n",
    "    use_mps_device=True\n",
    ")\n",
    "\n",
    "trainer = Trainer(\n",
    "    model=distilbert_model,\n",
    "    args=training_args,\n",
    "    train_dataset=split_dataset[\"train\"],\n",
    "    eval_dataset=split_dataset[\"test\"],\n",
    "    data_collator=data_collator,\n",
    "    # tokenizer=tokenizer,\n",
    ")\n"
   ],
   "metadata": {
    "collapsed": false,
    "ExecuteTime": {
     "end_time": "2023-05-11T12:54:49.910585Z",
     "start_time": "2023-05-11T12:54:46.514930Z"
    }
   }
  },
  {
   "cell_type": "code",
   "execution_count": 30,
   "outputs": [
    {
     "name": "stderr",
     "output_type": "stream",
     "text": [
      "/Users/phung/IdeaProjects/swinburne/tech-design/project-source/venv/lib/python3.9/site-packages/transformers/optimization.py:391: FutureWarning: This implementation of AdamW is deprecated and will be removed in a future version. Use the PyTorch implementation torch.optim.AdamW instead, or set `no_deprecation_warning=True` to disable this warning\n",
      "  warnings.warn(\n"
     ]
    },
    {
     "data": {
      "text/plain": "<IPython.core.display.HTML object>",
      "text/html": "\n    <div>\n      \n      <progress value='2' max='161420' style='width:300px; height:20px; vertical-align: middle;'></progress>\n      [     2/161420 : < :, Epoch 0.00/20]\n    </div>\n    <table border=\"1\" class=\"dataframe\">\n  <thead>\n <tr style=\"text-align: left;\">\n      <th>Epoch</th>\n      <th>Training Loss</th>\n      <th>Validation Loss</th>\n    </tr>\n  </thead>\n  <tbody>\n  </tbody>\n</table><p>"
     },
     "metadata": {},
     "output_type": "display_data"
    }
   ],
   "source": [
    "# train using torch mps device\n",
    "\n",
    "trainer.train()\n"
   ],
   "metadata": {
    "collapsed": false,
    "ExecuteTime": {
     "end_time": "2023-05-11T19:59:26.365674Z",
     "start_time": "2023-05-11T12:54:51.800419Z"
    }
   }
  },
  {
   "cell_type": "code",
   "execution_count": 16,
   "outputs": [
    {
     "name": "stdout",
     "output_type": "stream",
     "text": [
      "[{'label': 'out-of-scope', 'score': 1.0}]\n"
     ]
    }
   ],
   "source": [
    "from transformers import AutoModelForSequenceClassification, pipeline\n",
    "# my_model = AutoModelForSequenceClassification.from_pretrained('/Volumes/PortableSSD/Projects/models/faqs_distilbert_classifier/checkpoint-161000', num_labels=2)\n",
    "\n",
    "# inputs = tokenizer(\"Hello, my dog is cute\", return_tensors=\"pt\")\n",
    "# outputs = my_model(**inputs)\n",
    "\n",
    "# tokenizer.decode(outputs)\n",
    "my_pipline = pipeline('text-classification', model='/Volumes/PortableSSD/Projects/models/faqs_distilbert_classifier/checkpoint-161000', tokenizer=tokenizer)\n",
    "print(my_pipline('What is the student fee?'))\n"
   ],
   "metadata": {
    "collapsed": false,
    "ExecuteTime": {
     "end_time": "2023-05-11T23:37:17.609790Z",
     "start_time": "2023-05-11T23:37:17.044482Z"
    }
   }
  },
  {
   "cell_type": "code",
   "execution_count": null,
   "outputs": [],
   "source": [],
   "metadata": {
    "collapsed": false
   }
  }
 ],
 "metadata": {
  "kernelspec": {
   "display_name": "Python 3",
   "language": "python",
   "name": "python3"
  },
  "language_info": {
   "codemirror_mode": {
    "name": "ipython",
    "version": 2
   },
   "file_extension": ".py",
   "mimetype": "text/x-python",
   "name": "python",
   "nbconvert_exporter": "python",
   "pygments_lexer": "ipython2",
   "version": "2.7.6"
  }
 },
 "nbformat": 4,
 "nbformat_minor": 0
}
