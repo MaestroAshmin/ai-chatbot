{
 "cells": [
  {
   "cell_type": "code",
   "execution_count": 23,
   "metadata": {
    "collapsed": true,
    "ExecuteTime": {
     "end_time": "2023-05-01T05:24:16.152194832Z",
     "start_time": "2023-05-01T05:24:11.201648194Z"
    }
   },
   "outputs": [],
   "source": [
    "from transformers import AutoTokenizer, AutoModelForSeq2SeqLM\n",
    "\n",
    "device = \"cuda\"\n",
    "\n",
    "tokenizer = AutoTokenizer.from_pretrained(\"humarin/chatgpt_paraphraser_on_T5_base\")\n",
    "\n",
    "model = AutoModelForSeq2SeqLM.from_pretrained(\"humarin/chatgpt_paraphraser_on_T5_base\").to(device)\n",
    "\n",
    "def paraphrase(\n",
    "    question,\n",
    "    num_beams=5,\n",
    "    num_beam_groups=5,\n",
    "    num_return_sequences=5,\n",
    "    repetition_penalty=10.0,\n",
    "    diversity_penalty=3.0,\n",
    "    no_repeat_ngram_size=2,\n",
    "    temperature=0.7,\n",
    "    max_length=128\n",
    "):\n",
    "    input_ids = tokenizer(\n",
    "        f'paraphrase: {question}',\n",
    "        return_tensors=\"pt\", padding=\"longest\",\n",
    "        max_length=max_length,\n",
    "        truncation=True,\n",
    "    ).to(device).input_ids\n",
    "\n",
    "    outputs = model.generate(\n",
    "        input_ids, temperature=temperature, repetition_penalty=repetition_penalty,\n",
    "        num_return_sequences=num_return_sequences, no_repeat_ngram_size=no_repeat_ngram_size,\n",
    "        num_beams=num_beams, num_beam_groups=num_beam_groups,\n",
    "        max_length=max_length, diversity_penalty=diversity_penalty\n",
    "    )\n",
    "\n",
    "    res = tokenizer.batch_decode(outputs, skip_special_tokens=True)\n",
    "\n",
    "    return res\n"
   ]
  },
  {
   "cell_type": "code",
   "execution_count": 17,
   "outputs": [],
   "source": [
    "# text = 'What kind of support do you offer to your online students?'\n",
    "# print(paraphrase(text))"
   ],
   "metadata": {
    "collapsed": false,
    "ExecuteTime": {
     "end_time": "2023-05-01T04:38:27.881582624Z",
     "start_time": "2023-05-01T04:38:27.774765269Z"
    }
   }
  },
  {
   "cell_type": "code",
   "execution_count": 24,
   "outputs": [
    {
     "name": "stderr",
     "output_type": "stream",
     "text": [
      "/home/phung/Projects/swinburne/technology-design/sample-chat-server/venv/lib/python3.11/site-packages/bs4/builder/__init__.py:314: RuntimeWarning: coroutine 'promise' was never awaited\n",
      "  for attr in list(attrs.keys()):\n",
      "RuntimeWarning: Enable tracemalloc to get the object allocation traceback\n"
     ]
    }
   ],
   "source": [
    "from utils import swinburne_utils\n",
    "\n",
    "# Load and preprocess the scraped FAQs\n",
    "faq_data = swinburne_utils.get_faqs()\n",
    "faq_dataset = [{\"question\": q, \"answer\": a} for q, a in faq_data]"
   ],
   "metadata": {
    "collapsed": false,
    "ExecuteTime": {
     "end_time": "2023-05-01T05:24:19.624524064Z",
     "start_time": "2023-05-01T05:24:18.627084664Z"
    }
   }
  },
  {
   "cell_type": "code",
   "execution_count": 19,
   "outputs": [
    {
     "name": "stdout",
     "output_type": "stream",
     "text": [
      "{'question': 'What support can I expect?', 'answer': 'As a Swinburne Online student, you’ll have support for extended hours, seven days a week, with Student Advisors available to help with anything from tech support to research advice and dedicated online tutors in each of your units. Learn more aboutyour support.', 'questions_set': ['What aid can I receive?', 'Which assistance will be given to me?', 'What help I can get?', 'What kind of assistance can I receive?', 'what support I will be given?'], 'answers_set': ['Swinburne Online students have access to Student Advisors who are available for extended hours, providing all the necessary support they need from tech support to research advice and dedicated online tutors in each unit. Learn more about this.', 'Whether you are a Swinburne Online student or not, there are Student Advisors who offer 24-hour support, including technical assistance and online tutoring for all units. Learn more about what this means.', 'Swinburne Online students have access to Student Advisors who are available for extended hours, providing all the necessary support they need from tech support to research advice and dedicated online tutors in each unit. Learn more about this. Click here to learn more.', 'Whether you are a Swinburne Online student or not, there are Student Advisors who offer 24-hour support, including technical assistance and online tutoring for all units. Learn more about what this means. Support is available throughout the year.', 'Swinburne Online students can receive 24-hour, non-stop support from Student Advisors, which includes tech assistance, research advice, and dedicated online tutors in their respective units. Learn more about how they can benefit from this support.']}\n"
     ]
    }
   ],
   "source": [
    "\n",
    "for question_answer in faq_dataset:\n",
    "    question_answer[\"questions_set\"] = paraphrase(question_answer[\"question\"])\n",
    "    question_answer[\"answers_set\"] = paraphrase(question_answer[\"answer\"])\n",
    "\n",
    "print(faq_dataset[0])"
   ],
   "metadata": {
    "collapsed": false,
    "ExecuteTime": {
     "end_time": "2023-05-01T04:58:42.084179304Z",
     "start_time": "2023-05-01T04:52:51.065533813Z"
    }
   }
  },
  {
   "cell_type": "code",
   "execution_count": null,
   "outputs": [],
   "source": [],
   "metadata": {
    "collapsed": false
   }
  }
 ],
 "metadata": {
  "kernelspec": {
   "display_name": "Python 3",
   "language": "python",
   "name": "python3"
  },
  "language_info": {
   "codemirror_mode": {
    "name": "ipython",
    "version": 2
   },
   "file_extension": ".py",
   "mimetype": "text/x-python",
   "name": "python",
   "nbconvert_exporter": "python",
   "pygments_lexer": "ipython2",
   "version": "2.7.6"
  }
 },
 "nbformat": 4,
 "nbformat_minor": 0
}
