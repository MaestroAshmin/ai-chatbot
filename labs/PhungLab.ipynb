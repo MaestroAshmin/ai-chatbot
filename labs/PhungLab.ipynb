{
 "cells": [
  {
   "cell_type": "code",
   "execution_count": null,
   "metadata": {
    "collapsed": true
   },
   "outputs": [],
   "source": [
    "from datasets import load_dataset\n",
    "import csv\n",
    "\n",
    "squad_dataset = load_dataset('squad_v2')\n",
    "squad_questions =  [x['question'] for x in squad_dataset['train']] + [x['question'] for x in squad_dataset['validation']]\n",
    "\n",
    "with open('swinburne_paraphrased_faq.csv') as csv_file:\n",
    "    with open('out-of-scope-dataset.csv', 'w', newline='') as new_csv_file:\n",
    "        fieldnames = ['question', 'label']\n",
    "        writer = csv.DictWriter(new_csv_file, fieldnames=fieldnames)\n",
    "        writer.writeheader()\n",
    "\n",
    "        reader = csv.DictReader(csv_file)\n",
    "        for row in reader:\n",
    "            question = row['question']\n",
    "            label = 'in-scope'\n",
    "            writer.writerow({'question': question, 'label': label})\n",
    "        for question in squad_questions:\n",
    "            label = 'out-of-scope'\n",
    "            writer.writerow({'question': question, 'label': label})\n"
   ]
  },
  {
   "cell_type": "code",
   "execution_count": null,
   "outputs": [],
   "source": [
    "\n",
    "from transformers import AutoTokenizer, DistilBertForSequenceClassification\n",
    "\n",
    "distilbert_tokenizer = AutoTokenizer.from_pretrained('distilbert-base-uncased')\n",
    "distilbert_model = DistilBertForSequenceClassification.from_pretrained('distilbert-base-uncased', num_labels=2)\n",
    "\n",
    "def tokenize(batch):\n",
    "    return distilbert_tokenizer(batch['question'], padding=True, truncation=True)\n"
   ],
   "metadata": {
    "collapsed": false
   }
  }
 ],
 "metadata": {
  "kernelspec": {
   "display_name": "Python 3",
   "language": "python",
   "name": "python3"
  },
  "language_info": {
   "codemirror_mode": {
    "name": "ipython",
    "version": 2
   },
   "file_extension": ".py",
   "mimetype": "text/x-python",
   "name": "python",
   "nbconvert_exporter": "python",
   "pygments_lexer": "ipython2",
   "version": "2.7.6"
  }
 },
 "nbformat": 4,
 "nbformat_minor": 0
}
