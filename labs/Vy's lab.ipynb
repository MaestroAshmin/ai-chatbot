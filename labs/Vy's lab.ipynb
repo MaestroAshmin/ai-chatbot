{
 "cells": [
  {
   "cell_type": "markdown",
   "source": [
    "# Collect Data"
   ],
   "metadata": {
    "collapsed": false
   }
  },
  {
   "cell_type": "code",
   "execution_count": null,
   "outputs": [],
   "source": [
    "from utils import swinburne_utils\n",
    "\n",
    "# Load and preprocess the scraped FAQs\n",
    "faq_data = swinburne_utils.get_faqs()\n",
    "faq_dataset = [{\"question\": q, \"answer\": a} for q, a in faq_data]"
   ],
   "metadata": {
    "collapsed": false
   }
  },
  {
   "cell_type": "code",
   "execution_count": null,
   "outputs": [],
   "source": [
    "# Printing for debugging purposes\n",
    "print(faq_dataset)"
   ],
   "metadata": {
    "collapsed": false
   }
  },
  {
   "cell_type": "markdown",
   "source": [],
   "metadata": {
    "collapsed": false
   }
  },
  {
   "cell_type": "code",
   "execution_count": null,
   "outputs": [],
   "source": [
    "from transformers import Trainer, TrainingArguments, DistilBertForMaskedLM, \\\n",
    "    DataCollatorForLanguageModeling, AutoTokenizer\n",
    "from datasets import Dataset\n",
    "\n",
    "tokenizer = AutoTokenizer.from_pretrained('distilbert-base-uncased')\n",
    "\n",
    "# Convert to Hugging Face Dataset\n",
    "faq_dataset = Dataset.from_dict({\"text\": [f\"{d['question']} {d['answer']}\" for d in faq_dataset]})\n",
    "\n",
    "\n",
    "def tokenize_faq(data):\n",
    "    result = tokenizer(data[\"text\"])\n",
    "    if tokenizer.is_fast:\n",
    "        result[\"word_ids\"] = [result.word_ids(i) for i in range(len(result[\"input_ids\"]))]\n",
    "    return result\n",
    "\n",
    "\n",
    "# Tokenize the dataset\n",
    "tokenized_faq_dataset = faq_dataset.map(tokenize_faq, batched=True).remove_columns([\"text\"])\n",
    "print(tokenized_faq_dataset)\n",
    "\n",
    "chunk_size = 128\n",
    "\n",
    "\n",
    "def group_texts(data):\n",
    "    concatenated_examples = {k: sum(data[k], []) for k in data.keys()}\n",
    "    total_length = len(concatenated_examples[list(data.keys())[0]])\n",
    "    total_length = (total_length // chunk_size) * chunk_size\n",
    "    result = {\n",
    "        k: [t[i: i + chunk_size] for i in range(0, total_length, chunk_size)]\n",
    "        for k, t in concatenated_examples.items()\n",
    "    }\n",
    "    result[\"labels\"] = result[\"input_ids\"].copy()\n",
    "    return result\n",
    "\n",
    "\n",
    "lm_datasets = tokenized_faq_dataset.map(group_texts, batched=True)\n",
    "split_dataset = tokenized_faq_dataset.train_test_split(test_size=0.1)\n",
    "print(split_dataset)\n",
    "\n",
    "distilbert_model = DistilBertForMaskedLM.from_pretrained(\"distilbert-base-uncased\")\n",
    "\n",
    "data_collator = DataCollatorForLanguageModeling(tokenizer=tokenizer, mlm_probability=0.15)\n",
    "\n",
    "# Training hyperparameters\n",
    "training_args = TrainingArguments(\n",
    "    output_dir=\"./faq_distilbert\",\n",
    "    num_train_epochs=20,\n",
    "    per_device_train_batch_size=8,\n",
    "    per_device_eval_batch_size=8,\n",
    "    warmup_steps=500,\n",
    "    weight_decay=0.01,\n",
    "    logging_dir=\"./faq_distilbert_logs\",\n",
    "    logging_steps=10,\n",
    "    save_steps=50,\n",
    "    evaluation_strategy=\"epoch\",\n",
    "    learning_rate=2e-5,\n",
    ")\n",
    "\n",
    "trainer = Trainer(\n",
    "    model=distilbert_model,\n",
    "    args=training_args,\n",
    "    train_dataset=split_dataset[\"train\"],\n",
    "    eval_dataset=split_dataset[\"test\"],\n",
    "    data_collator=data_collator,\n",
    "    tokenizer=tokenizer,\n",
    ")"
   ],
   "metadata": {
    "collapsed": false
   }
  },
  {
   "cell_type": "code",
   "execution_count": null,
   "outputs": [],
   "source": [
    "\n",
    "# Fine-tuning\n",
    "trainer.train()\n"
   ],
   "metadata": {
    "collapsed": false,
    "pycharm": {
     "is_executing": true
    }
   }
  },
  {
   "cell_type": "code",
   "execution_count": null,
   "outputs": [],
   "source": [],
   "metadata": {
    "collapsed": false
   }
  }
 ],
 "metadata": {
  "kernelspec": {
   "display_name": "Python 3",
   "language": "python",
   "name": "python3"
  },
  "language_info": {
   "codemirror_mode": {
    "name": "ipython",
    "version": 2
   },
   "file_extension": ".py",
   "mimetype": "text/x-python",
   "name": "python",
   "nbconvert_exporter": "python",
   "pygments_lexer": "ipython2",
   "version": "2.7.6"
  }
 },
 "nbformat": 4,
 "nbformat_minor": 0
}
