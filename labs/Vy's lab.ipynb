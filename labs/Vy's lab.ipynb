{
 "cells": [
  {
   "cell_type": "code",
   "execution_count": 2,
   "outputs": [],
   "source": [
    "import requests\n",
    "from bs4 import BeautifulSoup\n",
    "\n",
    "\n",
    "def get_faqs():\n",
    "    response = requests.get('https://www.swinburneonline.edu.au/faqs/')\n",
    "    soup = BeautifulSoup(response.content, 'html.parser')\n",
    "    # get faq cards\n",
    "    faqs_cards = soup.select('.faqs-group .card')\n",
    "    result = []\n",
    "    # loop through and get questions and answers\n",
    "    for faq in faqs_cards:\n",
    "        question_el = faq.select_one('.card-header h5 > div:nth-child(2)')\n",
    "        answer_el = faq.select_one('.card-body .content')\n",
    "        # add to result if question and answer exist\n",
    "        if question_el and answer_el:\n",
    "            question = question_el.get_text(strip=True)\n",
    "            answer = answer_el.get_text(strip=True)\n",
    "            result.append((question, answer))\n",
    "    return result"
   ],
   "metadata": {
    "collapsed": false,
    "ExecuteTime": {
     "start_time": "2023-04-24T09:25:57.364243Z",
     "end_time": "2023-04-24T09:25:57.627532Z"
    }
   }
  },
  {
   "cell_type": "code",
   "execution_count": 27,
   "outputs": [
    {
     "name": "stdout",
     "output_type": "stream",
     "text": [
      "Dataset({\n",
      "    features: ['text'],\n",
      "    num_rows: 171\n",
      "})\n"
     ]
    },
    {
     "data": {
      "text/plain": "Map:   0%|          | 0/171 [00:00<?, ? examples/s]",
      "application/vnd.jupyter.widget-view+json": {
       "version_major": 2,
       "version_minor": 0,
       "model_id": "5a735f44b629482a983ca73c55714cdf"
      }
     },
     "metadata": {},
     "output_type": "display_data"
    },
    {
     "name": "stdout",
     "output_type": "stream",
     "text": [
      "Dataset({\n",
      "    features: ['input_ids', 'attention_mask', 'word_ids'],\n",
      "    num_rows: 171\n",
      "})\n"
     ]
    },
    {
     "data": {
      "text/plain": "Map:   0%|          | 0/171 [00:00<?, ? examples/s]",
      "application/vnd.jupyter.widget-view+json": {
       "version_major": 2,
       "version_minor": 0,
       "model_id": "fb920999f1b746ccafe50771428325bc"
      }
     },
     "metadata": {},
     "output_type": "display_data"
    },
    {
     "name": "stdout",
     "output_type": "stream",
     "text": [
      "DatasetDict({\n",
      "    train: Dataset({\n",
      "        features: ['input_ids', 'attention_mask', 'word_ids'],\n",
      "        num_rows: 153\n",
      "    })\n",
      "    test: Dataset({\n",
      "        features: ['input_ids', 'attention_mask', 'word_ids'],\n",
      "        num_rows: 18\n",
      "    })\n",
      "})\n"
     ]
    }
   ],
   "source": [
    "from transformers import Trainer, TrainingArguments, DistilBertForMaskedLM, \\\n",
    "    DataCollatorForLanguageModeling, AutoTokenizer\n",
    "from datasets import Dataset\n",
    "\n",
    "tokenizer = AutoTokenizer.from_pretrained('distilbert-base-uncased')\n",
    "\n",
    "# Load and preprocess the scraped FAQs\n",
    "faq_data = get_faqs()\n",
    "faq_dataset = [{\"question\": q, \"answer\": a} for q, a in faq_data]\n",
    "\n",
    "# Convert to Hugging Face Dataset\n",
    "faq_dataset = Dataset.from_dict({\"text\": [f\"{d['question']} {d['answer']}\" for d in faq_dataset]})\n",
    "print(faq_dataset)\n",
    "\n",
    "def tokenize_faq(data):\n",
    "    result = tokenizer(data[\"text\"])\n",
    "    if tokenizer.is_fast:\n",
    "        result[\"word_ids\"] = [result.word_ids(i) for i in range(len(result[\"input_ids\"]))]\n",
    "    return result\n",
    "\n",
    "\n",
    "# Tokenize the dataset\n",
    "tokenized_faq_dataset = faq_dataset.map(tokenize_faq, batched=True).remove_columns([\"text\"])\n",
    "print(tokenized_faq_dataset)\n",
    "\n",
    "chunk_size = 128\n",
    "\n",
    "\n",
    "def group_texts(data):\n",
    "    concatenated_examples = {k: sum(data[k], []) for k in data.keys()}\n",
    "    total_length = len(concatenated_examples[list(data.keys())[0]])\n",
    "    total_length = (total_length // chunk_size) * chunk_size\n",
    "    result = {\n",
    "        k: [t[i: i + chunk_size] for i in range(0, total_length, chunk_size)]\n",
    "        for k, t in concatenated_examples.items()\n",
    "    }\n",
    "    result[\"labels\"] = result[\"input_ids\"].copy()\n",
    "    return result\n",
    "\n",
    "\n",
    "lm_datasets = tokenized_faq_dataset.map(group_texts, batched=True)\n",
    "split_dataset = tokenized_faq_dataset.train_test_split(test_size=0.1)\n",
    "print(split_dataset)\n",
    "\n",
    "distilbert_model = DistilBertForMaskedLM.from_pretrained(\"distilbert-base-uncased\")\n",
    "\n",
    "data_collator = DataCollatorForLanguageModeling(tokenizer=tokenizer, mlm_probability=0.15)\n",
    "\n",
    "# Training hyperparameters\n",
    "training_args = TrainingArguments(\n",
    "    output_dir=\"./faq_distilbert\",\n",
    "    num_train_epochs=20,\n",
    "    per_device_train_batch_size=8,\n",
    "    per_device_eval_batch_size=8,\n",
    "    warmup_steps=500,\n",
    "    weight_decay=0.01,\n",
    "    logging_dir=\"./faq_distilbert_logs\",\n",
    "    logging_steps=10,\n",
    "    save_steps=50,\n",
    "    evaluation_strategy=\"epoch\",\n",
    "    learning_rate=2e-5,\n",
    ")\n",
    "\n",
    "trainer = Trainer(\n",
    "    model=distilbert_model,\n",
    "    args=training_args,\n",
    "    train_dataset=split_dataset[\"train\"],\n",
    "    eval_dataset=split_dataset[\"test\"],\n",
    "    data_collator=data_collator,\n",
    "    tokenizer=tokenizer,\n",
    ")"
   ],
   "metadata": {
    "collapsed": false,
    "ExecuteTime": {
     "start_time": "2023-04-24T10:42:50.549244Z",
     "end_time": "2023-04-24T10:42:54.383944Z"
    }
   }
  },
  {
   "cell_type": "code",
   "execution_count": null,
   "outputs": [
    {
     "name": "stderr",
     "output_type": "stream",
     "text": [
      "/Users/phung/IdeaProjects/swinburne/tech-design/qa-bot/venv/lib/python3.9/site-packages/transformers/optimization.py:391: FutureWarning: This implementation of AdamW is deprecated and will be removed in a future version. Use the PyTorch implementation torch.optim.AdamW instead, or set `no_deprecation_warning=True` to disable this warning\n",
      "  warnings.warn(\n",
      "You're using a DistilBertTokenizerFast tokenizer. Please note that with a fast tokenizer, using the `__call__` method is faster than using a method to encode the text followed by a call to the `pad` method to get a padded encoding.\n"
     ]
    },
    {
     "data": {
      "text/plain": "<IPython.core.display.HTML object>",
      "text/html": "\n    <div>\n      \n      <progress value='2' max='400' style='width:300px; height:20px; vertical-align: middle;'></progress>\n      [  2/400 : < :, Epoch 0.05/20]\n    </div>\n    <table border=\"1\" class=\"dataframe\">\n  <thead>\n <tr style=\"text-align: left;\">\n      <th>Epoch</th>\n      <th>Training Loss</th>\n      <th>Validation Loss</th>\n    </tr>\n  </thead>\n  <tbody>\n  </tbody>\n</table><p>"
     },
     "metadata": {},
     "output_type": "display_data"
    }
   ],
   "source": [
    "\n",
    "# Fine-tuning\n",
    "trainer.train()\n"
   ],
   "metadata": {
    "collapsed": false,
    "ExecuteTime": {
     "start_time": "2023-04-24T10:29:41.441517Z",
     "end_time": "2023-04-24T10:36:40.146155Z"
    },
    "pycharm": {
     "is_executing": true
    }
   }
  },
  {
   "cell_type": "code",
   "execution_count": null,
   "outputs": [],
   "source": [],
   "metadata": {
    "collapsed": false
   }
  }
 ],
 "metadata": {
  "kernelspec": {
   "display_name": "Python 3",
   "language": "python",
   "name": "python3"
  },
  "language_info": {
   "codemirror_mode": {
    "name": "ipython",
    "version": 2
   },
   "file_extension": ".py",
   "mimetype": "text/x-python",
   "name": "python",
   "nbconvert_exporter": "python",
   "pygments_lexer": "ipython2",
   "version": "2.7.6"
  }
 },
 "nbformat": 4,
 "nbformat_minor": 0
}
